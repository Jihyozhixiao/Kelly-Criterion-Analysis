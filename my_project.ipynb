{
 "cells": [
  {
   "cell_type": "code",
   "execution_count": 1,
   "metadata": {},
   "outputs": [],
   "source": [
    "import pandas as pd\n",
    "import numpy as np\n",
    "import matplotlib.pyplot as plt\n",
    "import seaborn as sns\n",
    "\n",
    "from utils import (\n",
    "    get_kelly, filter_leverage, get_cumulative_returns, backtest\n",
    ")"
   ]
  },
  {
   "cell_type": "code",
   "execution_count": 3,
   "metadata": {},
   "outputs": [],
   "source": [
    "kospi = pd.read_csv('KOSPI200.csv', index_col='Date')\n",
    "kospi = kospi.iloc[::-1].reset_index(drop=True)\n",
    "\n",
    "returns_kospi = kospi['Price'].pct_change()\n",
    "shift_returns_kospi = returns_kospi.shift(-1)\n",
    "\n",
    "expanding_kelly = get_kelly(returns_kospi)\n",
    "\n",
    "parameters_df = pd.DataFrame()\n",
    "parameters_df['kelly'] = expanding_kelly\n",
    "parameters_df['Next day return'] = shift_returns_kospi\n",
    "parameters_df['mean'] = returns_kospi.expanding(400).mean() "
   ]
  },
  {
   "cell_type": "code",
   "execution_count": null,
   "metadata": {},
   "outputs": [],
   "source": []
  }
 ],
 "metadata": {
  "kernelspec": {
   "display_name": "Python 3",
   "language": "python",
   "name": "python3"
  },
  "language_info": {
   "codemirror_mode": {
    "name": "ipython",
    "version": 3
   },
   "file_extension": ".py",
   "mimetype": "text/x-python",
   "name": "python",
   "nbconvert_exporter": "python",
   "pygments_lexer": "ipython3",
   "version": "3.11.4"
  }
 },
 "nbformat": 4,
 "nbformat_minor": 2
}
